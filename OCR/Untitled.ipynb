{
 "cells": [
  {
   "cell_type": "code",
   "execution_count": null,
   "id": "a5cd3294",
   "metadata": {},
   "outputs": [],
   "source": [
    "import easyocr\n",
    "import cv2"
   ]
  },
  {
   "cell_type": "code",
   "execution_count": null,
   "id": "511e8801",
   "metadata": {},
   "outputs": [],
   "source": [
    "\n",
    "\n",
    "# Load image and set background and text color\n",
    "image_path = \"test_bank_1.jpg\"\n",
    "background_color = [255, 255, 255]  # white background\n",
    "text_color = [0, 0, 0]  # black text\n",
    "img = cv2.imread(image_path)\n",
    "img = cv2.copyMakeBorder(img, 10, 10, 10, 10, cv2.BORDER_CONSTANT, value=background_color)\n",
    "\n",
    "# Initialize EasyOCR reader and set language\n",
    "reader = easyocr.Reader(['en'])\n",
    "\n",
    "# Get bounding boxes for text\n",
    "results = reader.readtext(img, detail=0, paragraph=False, min_size=10, text_threshold=0.8, low_text=0.3, contrast_ths=0.1)\n",
    "\n",
    "# Draw bounding boxes on image\n",
    "for bbox in results:\n",
    "    x1, y1, x2, y2 = bbox[0][0], bbox[0][1], bbox[0][2], bbox[0][3]\n",
    "    img = cv2.rectangle(img, (x1, y1), (x2, y2), text_color, 2)\n",
    "\n",
    "# Show image with bounding boxes\n",
    "cv2.imshow(\"Image with bounding boxes\", img)\n",
    "cv2.waitKey(0)\n",
    "cv2.destroyAllWindows()\n"
   ]
  },
  {
   "cell_type": "code",
   "execution_count": 1,
   "id": "85cc8f41",
   "metadata": {},
   "outputs": [
    {
     "name": "stdout",
     "output_type": "stream",
     "text": [
      "Jehad\n"
     ]
    }
   ],
   "source": [
    "print(\"Jehad\")"
   ]
  },
  {
   "cell_type": "code",
   "execution_count": null,
   "id": "063b519c",
   "metadata": {},
   "outputs": [],
   "source": []
  }
 ],
 "metadata": {
  "kernelspec": {
   "display_name": "Python 3",
   "language": "python",
   "name": "python3"
  },
  "language_info": {
   "codemirror_mode": {
    "name": "ipython",
    "version": 3
   },
   "file_extension": ".py",
   "mimetype": "text/x-python",
   "name": "python",
   "nbconvert_exporter": "python",
   "pygments_lexer": "ipython3",
   "version": "3.8.8"
  }
 },
 "nbformat": 4,
 "nbformat_minor": 5
}
